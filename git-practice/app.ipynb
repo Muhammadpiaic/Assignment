{
 "cells": [
  {
   "cell_type": "code",
   "execution_count": 15,
   "metadata": {},
   "outputs": [
    {
     "name": "stdout",
     "output_type": "stream",
     "text": [
      "apple\n",
      "banana\n",
      "cherry\n",
      "your are passed\n"
     ]
    }
   ],
   "source": [
    "fruits=('apple', 'banana', 'cherry')\n",
    "fruits[1]\n",
    "for x in fruits:\n",
    "    print(x)\n",
    "# int()\n",
    "#float()\n",
    "#str()\n",
    "marks=int (input ('Enter you Marks'))\n",
    "if marks>=33:\n",
    "    print('your are passed')\n",
    "    "
   ]
  },
  {
   "cell_type": "code",
   "execution_count": 16,
   "metadata": {},
   "outputs": [
    {
     "name": "stdout",
     "output_type": "stream",
     "text": [
      "you are failed\n",
      "welcome\n"
     ]
    }
   ],
   "source": [
    "marks=int (input ('Enter you Marks'))\n",
    "if marks >= 33:\n",
    "    print('yor are passed')\n",
    "else: \n",
    "    print('you are failed')\n",
    "print('welcome')\n"
   ]
  },
  {
   "cell_type": "code",
   "execution_count": 5,
   "metadata": {},
   "outputs": [
    {
     "name": "stdout",
     "output_type": "stream",
     "text": [
      " sum of 12 and 20 is 32\n"
     ]
    }
   ],
   "source": [
    "num1:int= int(input('Enter 1 number:'))\n",
    "num2:int= int(input('Enter 2 number:'))\n",
    "ans=num1+num2\n",
    "print (f\" sum of {num1} and {num2} is {ans}\")\n",
    "    "
   ]
  },
  {
   "cell_type": "code",
   "execution_count": 8,
   "metadata": {},
   "outputs": [
    {
     "ename": "NameError",
     "evalue": "name 'input_strig' is not defined",
     "output_type": "error",
     "traceback": [
      "\u001b[1;31m---------------------------------------------------------------------------\u001b[0m",
      "\u001b[1;31mNameError\u001b[0m                                 Traceback (most recent call last)",
      "Cell \u001b[1;32mIn[8], line 2\u001b[0m\n\u001b[0;32m      1\u001b[0m input_string \u001b[38;5;241m=\u001b[39m \u001b[38;5;28minput\u001b[39m (\u001b[38;5;124m\"\u001b[39m\u001b[38;5;124menter a number:\u001b[39m\u001b[38;5;124m\"\u001b[39m)\n\u001b[1;32m----> 2\u001b[0m interger_value \u001b[38;5;241m=\u001b[39m\u001b[38;5;28mint\u001b[39m (\u001b[43minput_strig\u001b[49m)\n\u001b[0;32m      3\u001b[0m \u001b[38;5;28mprint\u001b[39m(interger_value)\n",
      "\u001b[1;31mNameError\u001b[0m: name 'input_strig' is not defined"
     ]
    }
   ],
   "source": [
    "input_string = input (\"enter a number:\")\n",
    "interger_value =int (input_strig)\n",
    "print(interger_value)\n"
   ]
  },
  {
   "cell_type": "code",
   "execution_count": null,
   "metadata": {},
   "outputs": [],
   "source": []
  }
 ],
 "metadata": {
  "kernelspec": {
   "display_name": "Python 3",
   "language": "python",
   "name": "python3"
  },
  "language_info": {
   "codemirror_mode": {
    "name": "ipython",
    "version": 3
   },
   "file_extension": ".py",
   "mimetype": "text/x-python",
   "name": "python",
   "nbconvert_exporter": "python",
   "pygments_lexer": "ipython3",
   "version": "3.12.4"
  }
 },
 "nbformat": 4,
 "nbformat_minor": 2
}
